{
 "cells": [
  {
   "cell_type": "code",
   "execution_count": 24,
   "id": "df9cff42-8e5c-4692-b8d7-dc812853e41a",
   "metadata": {},
   "outputs": [
    {
     "data": {
      "text/plain": [
       "'\\nQ1: What are the Probability Mass Function (PMF) and Probability Density Function (PDF)? Explain with\\nan example.\\n'"
      ]
     },
     "execution_count": 24,
     "metadata": {},
     "output_type": "execute_result"
    }
   ],
   "source": [
    "'''\n",
    "Q1: What are the Probability Mass Function (PMF) and Probability Density Function (PDF)? Explain with\n",
    "an example.\n",
    "'''"
   ]
  },
  {
   "cell_type": "code",
   "execution_count": 25,
   "id": "15767069-9cd1-4450-9d1e-999a322c2cf3",
   "metadata": {},
   "outputs": [
    {
     "data": {
      "text/plain": [
       "'\\nprobality mass functon are worked on descrete random variable ,The probability mass function is usually the primary component of defining a discrete probability distribution,\\nand it is deffer from pdf so it is used in computer programming and statical analyze\\nprobability density function \\nit is worked on continous random variable ,\\nThe probability density function is said to be valid if it obeys the following conditions:\\n1. f(x) should be non-negative for all values of the random variable.\\n2. The area underneath f(x) should be equal to 1.\\n'"
      ]
     },
     "execution_count": 25,
     "metadata": {},
     "output_type": "execute_result"
    }
   ],
   "source": [
    "'''\n",
    "probality mass functon are worked on descrete random variable ,The probability mass function is usually the primary component of defining a discrete probability distribution,\n",
    "and it is deffer from pdf so it is used in computer programming and statical analyze\n",
    "probability density function \n",
    "it is worked on continous random variable ,\n",
    "The probability density function is said to be valid if it obeys the following conditions:\n",
    "1. f(x) should be non-negative for all values of the random variable.\n",
    "2. The area underneath f(x) should be equal to 1.\n",
    "'''"
   ]
  },
  {
   "cell_type": "code",
   "execution_count": 26,
   "id": "9b4a4d7c-ff25-41d0-ba5b-6ad787c26e06",
   "metadata": {},
   "outputs": [
    {
     "data": {
      "text/plain": [
       "'\\nQ2: What is Cumulative Density Function (CDF)? Explain with an example. Why CDF is used?\\n'"
      ]
     },
     "execution_count": 26,
     "metadata": {},
     "output_type": "execute_result"
    }
   ],
   "source": [
    "'''\n",
    "Q2: What is Cumulative Density Function (CDF)? Explain with an example. Why CDF is used?\n",
    "'''"
   ]
  },
  {
   "cell_type": "code",
   "execution_count": 27,
   "id": "096a87e5-3faa-4106-8d2e-6706ab86d1a6",
   "metadata": {},
   "outputs": [
    {
     "data": {
      "text/plain": [
       "'\\nWhat is meant by the cumulative distribution function?\\nThe cumulative distribution function (CDF) of random variable X is defined as FX(x) = P(X ≤ x), for all x ∈ R.\\nNote that the subscript X indicates that this is the CDF of the random variable X. Also, note that the CDF \\nis defined for all x ∈ R.\\nWhat does a CDF do?\\nThe cumulative distribution function (CDF) calculates the cumulative probability for a given x-value.\\nUse the CDF to determine the likelihood that a random observation taken from the population will be less \\nthan or equal to a particular value.\\n'"
      ]
     },
     "execution_count": 27,
     "metadata": {},
     "output_type": "execute_result"
    }
   ],
   "source": [
    "'''\n",
    "What is meant by the cumulative distribution function?\n",
    "The cumulative distribution function (CDF) of random variable X is defined as FX(x) = P(X ≤ x), for all x ∈ R.\n",
    "Note that the subscript X indicates that this is the CDF of the random variable X. Also, note that the CDF \n",
    "is defined for all x ∈ R.\n",
    "What does a CDF do?\n",
    "The cumulative distribution function (CDF) calculates the cumulative probability for a given x-value.\n",
    "Use the CDF to determine the likelihood that a random observation taken from the population will be less \n",
    "than or equal to a particular value.\n",
    "'''"
   ]
  },
  {
   "cell_type": "code",
   "execution_count": 28,
   "id": "099a1284-441a-4bf6-ab8e-45399331b840",
   "metadata": {},
   "outputs": [
    {
     "data": {
      "text/plain": [
       "'\\nQ3: What are some examples of situations where the normal distribution might be used as a model?\\nExplain how the parameters of the normal distribution relate to the shape of the distribution.\\n'"
      ]
     },
     "execution_count": 28,
     "metadata": {},
     "output_type": "execute_result"
    }
   ],
   "source": [
    "'''\n",
    "Q3: What are some examples of situations where the normal distribution might be used as a model?\n",
    "Explain how the parameters of the normal distribution relate to the shape of the distribution.\n",
    "'''"
   ]
  },
  {
   "cell_type": "code",
   "execution_count": 29,
   "id": "e7c859d9-ae21-4239-aeb6-e127dfda8944",
   "metadata": {},
   "outputs": [
    {
     "data": {
      "text/plain": [
       "'\\nnormal distribution are most commonly distribution which are used in statistics \\nproperties :\\nbell curve \\nit has one peak \\nmean and median and mode  are belong on the center of distribution\\nSymmetrical\\nthree parameter mean ,standard deviation,and x (value )\\nif sd is 1 than probability is do  65% \\nif SD is 2 PRobability is 95% \\nif SD Is 3 than 99.9% \\n\\n'"
      ]
     },
     "execution_count": 29,
     "metadata": {},
     "output_type": "execute_result"
    }
   ],
   "source": [
    "'''\n",
    "normal distribution are most commonly distribution which are used in statistics \n",
    "properties :\n",
    "bell curve \n",
    "it has one peak \n",
    "mean and median and mode  are belong on the center of distribution\n",
    "Symmetrical\n",
    "three parameter mean ,standard deviation,and x (value )\n",
    "if sd is 1 than probability is do  65% \n",
    "if SD is 2 PRobability is 95% \n",
    "if SD Is 3 than 99.9% \n",
    "\n",
    "'''\n",
    "\n"
   ]
  },
  {
   "cell_type": "code",
   "execution_count": 30,
   "id": "b885f8a4-5f36-4e8c-b48a-8526cde67e83",
   "metadata": {},
   "outputs": [
    {
     "data": {
      "text/plain": [
       "'\\nQ4: Explain the importance of Normal Distribution. Give a few real-life examples of Normal\\nDistribution.\\n'"
      ]
     },
     "execution_count": 30,
     "metadata": {},
     "output_type": "execute_result"
    }
   ],
   "source": [
    "'''\n",
    "Q4: Explain the importance of Normal Distribution. Give a few real-life examples of Normal\n",
    "Distribution.\n",
    "'''"
   ]
  },
  {
   "cell_type": "code",
   "execution_count": 31,
   "id": "3b5a0bf3-88ab-4ff0-b074-b91455f2e972",
   "metadata": {},
   "outputs": [
    {
     "data": {
      "text/plain": [
       "'\\nAll kinds of variables in natural and social sciences are normally or approximately normally distributed. Height, birth weight, reading ability, job satisfaction, or SAT scores are just a few examples of such variables.\\n\\nBecause normally distributed variables are so common, many statistical tests are designed for normally distributed populations.\\n\\nUnderstanding the properties of normal distributions means you can use inferential statistics to compare different groups and make estimates about populations using samples.\\n'"
      ]
     },
     "execution_count": 31,
     "metadata": {},
     "output_type": "execute_result"
    }
   ],
   "source": [
    "'''\n",
    "All kinds of variables in natural and social sciences are normally or approximately normally distributed. Height, birth weight, reading ability, job satisfaction, or SAT scores are just a few examples of such variables.\n",
    "\n",
    "Because normally distributed variables are so common, many statistical tests are designed for normally distributed populations.\n",
    "\n",
    "Understanding the properties of normal distributions means you can use inferential statistics to compare different groups and make estimates about populations using samples.\n",
    "'''"
   ]
  },
  {
   "cell_type": "code",
   "execution_count": 32,
   "id": "d63ca3a1-7eba-4238-8a58-febac9283bf6",
   "metadata": {},
   "outputs": [
    {
     "data": {
      "text/plain": [
       "'\\nQ5: What is Bernaulli Distribution? Give an Example. What is the difference between Bernoulli\\nDistribution and Binomial Distribution?\\n'"
      ]
     },
     "execution_count": 32,
     "metadata": {},
     "output_type": "execute_result"
    }
   ],
   "source": [
    "'''\n",
    "Q5: What is Bernaulli Distribution? Give an Example. What is the difference between Bernoulli\n",
    "Distribution and Binomial Distribution?\n",
    "'''"
   ]
  },
  {
   "cell_type": "code",
   "execution_count": 33,
   "id": "89821a8e-8ef5-4e5b-bef6-27d1e81f7616",
   "metadata": {},
   "outputs": [
    {
     "data": {
      "text/plain": [
       "'\\nBernoulli distribution is used when we want to model the outcome of a single trial of an event.\\nit is represented as X \\n∼Bernoulli (p). Here, p is the probability of success.\\nExample:\\nSuppose the probability of passing an exam is 80% and failing is 20%. Then the Bernoulli distribution can \\nbe used to model the passing or failing in such an exam.\\nMean, E[X] = p\\nVariance, Var[X] = p(1-p)\\n//////////////////////////\\nbinomial distribution is useed when we want to model the outcome of multiple tial event \\nit is represented by np\\nSuppose the probability of passing an exam is 80% and failing is 20%. Then if we want to find the \\nprobability that a student will pass in exactly 4 out of 5 exams, we use the \\nBinomial Distribution.\\nmean = np\\nvariance =np(1-p)\\n'"
      ]
     },
     "execution_count": 33,
     "metadata": {},
     "output_type": "execute_result"
    }
   ],
   "source": [
    "'''\n",
    "Bernoulli distribution is used when we want to model the outcome of a single trial of an event.\n",
    "it is represented as X \n",
    "∼Bernoulli (p). Here, p is the probability of success.\n",
    "Example:\n",
    "Suppose the probability of passing an exam is 80% and failing is 20%. Then the Bernoulli distribution can \n",
    "be used to model the passing or failing in such an exam.\n",
    "Mean, E[X] = p\n",
    "Variance, Var[X] = p(1-p)\n",
    "//////////////////////////\n",
    "binomial distribution is useed when we want to model the outcome of multiple tial event \n",
    "it is represented by np\n",
    "Suppose the probability of passing an exam is 80% and failing is 20%. Then if we want to find the \n",
    "probability that a student will pass in exactly 4 out of 5 exams, we use the \n",
    "Binomial Distribution.\n",
    "mean = np\n",
    "variance =np(1-p)\n",
    "'''"
   ]
  },
  {
   "cell_type": "code",
   "execution_count": 34,
   "id": "274fefb7-42ee-4a36-802d-d29c13a524d1",
   "metadata": {},
   "outputs": [
    {
     "data": {
      "text/plain": [
       "'\\nQ6. Consider a dataset with a mean of 50 and a standard deviation of 10. If we assume that the dataset\\nis normally distributed, what is the probability that a randomly selected observation will be greater\\nthan 60? Use the appropriate formula and show your calculations.\\n'"
      ]
     },
     "execution_count": 34,
     "metadata": {},
     "output_type": "execute_result"
    }
   ],
   "source": [
    "'''\n",
    "Q6. Consider a dataset with a mean of 50 and a standard deviation of 10. If we assume that the dataset\n",
    "is normally distributed, what is the probability that a randomly selected observation will be greater\n",
    "than 60? Use the appropriate formula and show your calculations.\n",
    "'''"
   ]
  },
  {
   "cell_type": "code",
   "execution_count": 35,
   "id": "efc1fe7b-cc19-4047-9471-a54c2c2ed6a8",
   "metadata": {},
   "outputs": [
    {
     "name": "stdout",
     "output_type": "stream",
     "text": [
      "0.15869999999999995\n"
     ]
    }
   ],
   "source": [
    "mean= 50\n",
    "std=10;\n",
    "xi=60\n",
    "'''\n",
    "z_score =( xi=mean)/ std \n",
    "\n",
    "'''\n",
    "d=xi-mean\n",
    "z_score = d/std\n",
    "# area under curve\n",
    "area =0.8413\n",
    "area_under_curve= 1-area\n",
    "print(area_under_curve)"
   ]
  },
  {
   "cell_type": "code",
   "execution_count": 36,
   "id": "76218228-db67-4798-a228-d8c4cc8aa362",
   "metadata": {},
   "outputs": [
    {
     "data": {
      "text/plain": [
       "1.0"
      ]
     },
     "execution_count": 36,
     "metadata": {},
     "output_type": "execute_result"
    }
   ],
   "source": [
    "z_score"
   ]
  },
  {
   "cell_type": "code",
   "execution_count": null,
   "id": "00d8366d-8773-4668-9d94-de1ec8bdf605",
   "metadata": {},
   "outputs": [],
   "source": []
  },
  {
   "cell_type": "code",
   "execution_count": 37,
   "id": "4c288676-662b-49ac-9cf8-b230fa4be9b9",
   "metadata": {},
   "outputs": [
    {
     "data": {
      "text/plain": [
       "'\\nQ7: Explain uniform Distribution with an example.\\n'"
      ]
     },
     "execution_count": 37,
     "metadata": {},
     "output_type": "execute_result"
    }
   ],
   "source": [
    "'''\n",
    "Q7: Explain uniform Distribution with an example.\n",
    "'''"
   ]
  },
  {
   "cell_type": "code",
   "execution_count": 38,
   "id": "922e7e85-85c0-4eab-bc80-863cca5a8037",
   "metadata": {},
   "outputs": [
    {
     "data": {
      "text/plain": [
       "'\\nin statistics ,uniform distribution refer to a type of probability \\ndistribution in which all outcomes are equally likely .\\nfor example a deck of card\\n'"
      ]
     },
     "execution_count": 38,
     "metadata": {},
     "output_type": "execute_result"
    }
   ],
   "source": [
    "'''\n",
    "in statistics ,uniform distribution refer to a type of probability \n",
    "distribution in which all outcomes are equally likely .\n",
    "for example a deck of card\n",
    "'''"
   ]
  },
  {
   "cell_type": "code",
   "execution_count": 39,
   "id": "17cd86dd-d71d-40db-86d6-a58b14da76ad",
   "metadata": {},
   "outputs": [
    {
     "data": {
      "text/plain": [
       "'\\n\\nQ8: What is the z score? State the importance of the z score.\\n'"
      ]
     },
     "execution_count": 39,
     "metadata": {},
     "output_type": "execute_result"
    }
   ],
   "source": [
    "'''\n",
    "\n",
    "Q8: What is the z score? State the importance of the z score.\n",
    "'''"
   ]
  },
  {
   "cell_type": "code",
   "execution_count": 40,
   "id": "9afb5069-d33e-42ef-a43f-89a3129bb6ac",
   "metadata": {},
   "outputs": [
    {
     "data": {
      "text/plain": [
       "'A standard normal table (also called the unit normal table or z-score table) is a mathematical table\\nfor the values of ϕ, indicating the values of the cumulative distribution function of the normal\\ndistribution'"
      ]
     },
     "execution_count": 40,
     "metadata": {},
     "output_type": "execute_result"
    }
   ],
   "source": [
    "'''A standard normal table (also called the unit normal table or z-score table) is a mathematical table\n",
    "for the values of ϕ, indicating the values of the cumulative distribution function of the normal\n",
    "distribution'''"
   ]
  },
  {
   "cell_type": "code",
   "execution_count": 41,
   "id": "90bc47c1-8ad3-4be7-8164-6b6ce1db5445",
   "metadata": {},
   "outputs": [
    {
     "data": {
      "text/plain": [
       "'\\nQ9: What is Central Limit Theorem? State the significance of the Central Limit Theorem.\\n'"
      ]
     },
     "execution_count": 41,
     "metadata": {},
     "output_type": "execute_result"
    }
   ],
   "source": [
    "'''\n",
    "Q9: What is Central Limit Theorem? State the significance of the Central Limit Theorem.\n",
    "'''"
   ]
  },
  {
   "cell_type": "code",
   "execution_count": 42,
   "id": "8c7f0eca-7a8b-4188-9f26-8412cc61679c",
   "metadata": {},
   "outputs": [
    {
     "data": {
      "text/plain": [
       "'\\nThe Central Limit Theorem (CLT) states that the distribution of a sample mean that approximates the normal\\ndistribution, as the sample size becomes larger, \\nassuming that all the samples are similar, and no matter what the shape of the population distribution.'"
      ]
     },
     "execution_count": 42,
     "metadata": {},
     "output_type": "execute_result"
    }
   ],
   "source": [
    "'''\n",
    "The Central Limit Theorem (CLT) states that the distribution of a sample mean that approximates the normal\n",
    "distribution, as the sample size becomes larger, \n",
    "assuming that all the samples are similar, and no matter what the shape of the population distribution.'''"
   ]
  },
  {
   "cell_type": "code",
   "execution_count": 43,
   "id": "447638d7-8940-4edc-9ba2-0987d327b6f8",
   "metadata": {},
   "outputs": [
    {
     "data": {
      "text/plain": [
       "'\\nQ10: State the assumptions of the Central Limit Theorem.\\n'"
      ]
     },
     "execution_count": 43,
     "metadata": {},
     "output_type": "execute_result"
    }
   ],
   "source": [
    "'''\n",
    "Q10: State the assumptions of the Central Limit Theorem.\n",
    "'''"
   ]
  },
  {
   "cell_type": "code",
   "execution_count": 44,
   "id": "c2f77002-2940-4517-85c0-f4f29aaab3d4",
   "metadata": {},
   "outputs": [
    {
     "data": {
      "text/plain": [
       "'\\nThe sample size is sufficiently large. This condition is usually met if the sample size is n ≥ 30.\\nThe samples are independent and identically distributed (i.i.d.) random variables. This condition is \\nusually met if the sampling is random.\\nThe population’s distribution has finite variance. Central limit theorem doesn’t apply to distributions\\nwith infinite variance, such as the Cauchy distribution. Most distributions have finite variance.\\n'"
      ]
     },
     "execution_count": 44,
     "metadata": {},
     "output_type": "execute_result"
    }
   ],
   "source": [
    "'''\n",
    "The sample size is sufficiently large. This condition is usually met if the sample size is n ≥ 30.\n",
    "The samples are independent and identically distributed (i.i.d.) random variables. This condition is \n",
    "usually met if the sampling is random.\n",
    "The population’s distribution has finite variance. Central limit theorem doesn’t apply to distributions\n",
    "with infinite variance, such as the Cauchy distribution. Most distributions have finite variance.\n",
    "'''"
   ]
  },
  {
   "cell_type": "code",
   "execution_count": null,
   "id": "a9593961-1bc8-4821-8ee6-f3063c1de988",
   "metadata": {},
   "outputs": [],
   "source": []
  },
  {
   "cell_type": "code",
   "execution_count": null,
   "id": "c4844ed3-796a-46a5-b5f9-48c31df538b4",
   "metadata": {},
   "outputs": [],
   "source": []
  }
 ],
 "metadata": {
  "kernelspec": {
   "display_name": "Python 3 (ipykernel)",
   "language": "python",
   "name": "python3"
  },
  "language_info": {
   "codemirror_mode": {
    "name": "ipython",
    "version": 3
   },
   "file_extension": ".py",
   "mimetype": "text/x-python",
   "name": "python",
   "nbconvert_exporter": "python",
   "pygments_lexer": "ipython3",
   "version": "3.10.8"
  }
 },
 "nbformat": 4,
 "nbformat_minor": 5
}
